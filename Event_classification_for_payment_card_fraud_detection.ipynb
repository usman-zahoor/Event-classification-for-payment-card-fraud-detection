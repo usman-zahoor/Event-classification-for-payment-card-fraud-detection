{
  "cells": [
    {
      "cell_type": "markdown",
      "metadata": {
        "id": "HnaJDnp0Jcpk"
      },
      "source": [
        "**Setup**  \n",
        "pip install temporian keras pandas tf-nightly scikit-learn -U."
      ]
    },
    {
      "cell_type": "code",
      "execution_count": 16,
      "metadata": {
        "id": "GbOGuldyJT5D"
      },
      "outputs": [],
      "source": [
        "import keras  # To train the Machine Learning model\n",
        "import temporian as tp  # To convert transactions into tabular data\n",
        "\n",
        "import numpy as np\n",
        "import os\n",
        "import pandas as pd\n",
        "import datetime\n",
        "import math\n",
        "import tensorflow as tf\n",
        "from sklearn.metrics import RocCurveDisplay"
      ]
    },
    {
      "cell_type": "code",
      "source": [
        "!pip install temporian"
      ],
      "metadata": {
        "colab": {
          "base_uri": "https://localhost:8080/"
        },
        "id": "Pb_8AKW7lwXS",
        "outputId": "7af4e9c9-bd8d-4156-b712-17f5e1ef59a5"
      },
      "execution_count": 15,
      "outputs": [
        {
          "output_type": "stream",
          "name": "stdout",
          "text": [
            "Collecting temporian\n",
            "  Downloading temporian-0.9.0-cp310-cp310-manylinux_2_17_x86_64.manylinux2014_x86_64.whl.metadata (8.0 kB)\n",
            "Requirement already satisfied: absl-py<2.0.0,>=1.3.0 in /usr/local/lib/python3.10/dist-packages (from temporian) (1.4.0)\n",
            "Requirement already satisfied: matplotlib<4.0.0,>=3.7.1 in /usr/local/lib/python3.10/dist-packages (from temporian) (3.7.1)\n",
            "Requirement already satisfied: pandas>=1.5.2 in /usr/local/lib/python3.10/dist-packages (from temporian) (2.1.4)\n",
            "Requirement already satisfied: protobuf>=3.20.3 in /usr/local/lib/python3.10/dist-packages (from temporian) (3.20.3)\n",
            "Requirement already satisfied: contourpy>=1.0.1 in /usr/local/lib/python3.10/dist-packages (from matplotlib<4.0.0,>=3.7.1->temporian) (1.3.0)\n",
            "Requirement already satisfied: cycler>=0.10 in /usr/local/lib/python3.10/dist-packages (from matplotlib<4.0.0,>=3.7.1->temporian) (0.12.1)\n",
            "Requirement already satisfied: fonttools>=4.22.0 in /usr/local/lib/python3.10/dist-packages (from matplotlib<4.0.0,>=3.7.1->temporian) (4.53.1)\n",
            "Requirement already satisfied: kiwisolver>=1.0.1 in /usr/local/lib/python3.10/dist-packages (from matplotlib<4.0.0,>=3.7.1->temporian) (1.4.7)\n",
            "Requirement already satisfied: numpy>=1.20 in /usr/local/lib/python3.10/dist-packages (from matplotlib<4.0.0,>=3.7.1->temporian) (1.26.4)\n",
            "Requirement already satisfied: packaging>=20.0 in /usr/local/lib/python3.10/dist-packages (from matplotlib<4.0.0,>=3.7.1->temporian) (24.1)\n",
            "Requirement already satisfied: pillow>=6.2.0 in /usr/local/lib/python3.10/dist-packages (from matplotlib<4.0.0,>=3.7.1->temporian) (10.4.0)\n",
            "Requirement already satisfied: pyparsing>=2.3.1 in /usr/local/lib/python3.10/dist-packages (from matplotlib<4.0.0,>=3.7.1->temporian) (3.1.4)\n",
            "Requirement already satisfied: python-dateutil>=2.7 in /usr/local/lib/python3.10/dist-packages (from matplotlib<4.0.0,>=3.7.1->temporian) (2.8.2)\n",
            "Requirement already satisfied: pytz>=2020.1 in /usr/local/lib/python3.10/dist-packages (from pandas>=1.5.2->temporian) (2024.2)\n",
            "Requirement already satisfied: tzdata>=2022.1 in /usr/local/lib/python3.10/dist-packages (from pandas>=1.5.2->temporian) (2024.1)\n",
            "Requirement already satisfied: six>=1.5 in /usr/local/lib/python3.10/dist-packages (from python-dateutil>=2.7->matplotlib<4.0.0,>=3.7.1->temporian) (1.16.0)\n",
            "Downloading temporian-0.9.0-cp310-cp310-manylinux_2_17_x86_64.manylinux2014_x86_64.whl (760 kB)\n",
            "\u001b[2K   \u001b[90m━━━━━━━━━━━━━━━━━━━━━━━━━━━━━━━━━━━━━━━━\u001b[0m \u001b[32m760.6/760.6 kB\u001b[0m \u001b[31m33.8 MB/s\u001b[0m eta \u001b[36m0:00:00\u001b[0m\n",
            "\u001b[?25hInstalling collected packages: temporian\n",
            "Successfully installed temporian-0.9.0\n"
          ]
        }
      ]
    },
    {
      "cell_type": "markdown",
      "metadata": {
        "id": "117DEQzsKkup"
      },
      "source": [
        "**Loading Dataset**"
      ]
    },
    {
      "cell_type": "code",
      "execution_count": 17,
      "metadata": {
        "id": "QmXKHUVQJujM",
        "colab": {
          "base_uri": "https://localhost:8080/"
        },
        "outputId": "02db23b5-e20e-4a70-cb23-fb8eecb8596d"
      },
      "outputs": [
        {
          "output_type": "stream",
          "name": "stdout",
          "text": [
            "Download dataset\n",
            "[0%]..................[10%]..................[20%]..................[30%]..................[40%]..................[50%]..................[59%]..................[69%]..................[79%]..................[89%]..................[99%]...done\n",
            "Found 1754155 transactions\n"
          ]
        }
      ],
      "source": [
        "start_date = datetime.date(2018, 4, 1)\n",
        "end_date = datetime.date(2018, 9, 30)\n",
        "\n",
        "# Load the dataset as a Pandas dataframe.\n",
        "cache_path = \"fraud_detection_cache.csv\"\n",
        "if not os.path.exists(cache_path):\n",
        "    print(\"Download dataset\")\n",
        "    dataframes = []\n",
        "    num_files = (end_date - start_date).days\n",
        "    counter = 0\n",
        "    while start_date <= end_date:\n",
        "        if counter % (num_files // 10) == 0:\n",
        "            print(f\"[{100 * (counter+1) // num_files}%]\", end=\"\", flush=True)\n",
        "        print(\".\", end=\"\", flush=True)\n",
        "        url = f\"https://github.com/Fraud-Detection-Handbook/simulated-data-raw/raw/6e67dbd0a3bfe0d7ec33abc4bce5f37cd4ff0d6a/data/{start_date}.pkl\"\n",
        "        dataframes.append(pd.read_pickle(url))\n",
        "        start_date += datetime.timedelta(days=1)\n",
        "        counter += 1\n",
        "    print(\"done\", flush=True)\n",
        "    transactions_dataframe = pd.concat(dataframes)\n",
        "    transactions_dataframe.to_csv(cache_path, index=False)\n",
        "else:\n",
        "    print(\"Load dataset from cache\")\n",
        "    transactions_dataframe = pd.read_csv(\n",
        "        cache_path, dtype={\"CUSTOMER_ID\": bytes, \"TERMINAL_ID\": bytes}\n",
        "    )\n",
        "\n",
        "print(f\"Found {len(transactions_dataframe)} transactions\")"
      ]
    },
    {
      "cell_type": "code",
      "execution_count": 18,
      "metadata": {
        "colab": {
          "base_uri": "https://localhost:8080/",
          "height": 175
        },
        "id": "2Orft1LYKpro",
        "outputId": "7e7500e7-ccca-4d54-dfe1-ef4594967692"
      },
      "outputs": [
        {
          "output_type": "execute_result",
          "data": {
            "text/plain": [
              "          TX_DATETIME CUSTOMER_ID TERMINAL_ID  TX_AMOUNT  TX_FRAUD\n",
              "0 2018-04-01 00:00:31         596        3156      57.16         0\n",
              "1 2018-04-01 00:02:10        4961        3412      81.51         0\n",
              "2 2018-04-01 00:07:56           2        1365     146.00         0\n",
              "3 2018-04-01 00:09:29        4128        8737      64.49         0"
            ],
            "text/html": [
              "\n",
              "  <div id=\"df-eee070ef-dbdc-490f-9162-f6be94f515d3\" class=\"colab-df-container\">\n",
              "    <div>\n",
              "<style scoped>\n",
              "    .dataframe tbody tr th:only-of-type {\n",
              "        vertical-align: middle;\n",
              "    }\n",
              "\n",
              "    .dataframe tbody tr th {\n",
              "        vertical-align: top;\n",
              "    }\n",
              "\n",
              "    .dataframe thead th {\n",
              "        text-align: right;\n",
              "    }\n",
              "</style>\n",
              "<table border=\"1\" class=\"dataframe\">\n",
              "  <thead>\n",
              "    <tr style=\"text-align: right;\">\n",
              "      <th></th>\n",
              "      <th>TX_DATETIME</th>\n",
              "      <th>CUSTOMER_ID</th>\n",
              "      <th>TERMINAL_ID</th>\n",
              "      <th>TX_AMOUNT</th>\n",
              "      <th>TX_FRAUD</th>\n",
              "    </tr>\n",
              "  </thead>\n",
              "  <tbody>\n",
              "    <tr>\n",
              "      <th>0</th>\n",
              "      <td>2018-04-01 00:00:31</td>\n",
              "      <td>596</td>\n",
              "      <td>3156</td>\n",
              "      <td>57.16</td>\n",
              "      <td>0</td>\n",
              "    </tr>\n",
              "    <tr>\n",
              "      <th>1</th>\n",
              "      <td>2018-04-01 00:02:10</td>\n",
              "      <td>4961</td>\n",
              "      <td>3412</td>\n",
              "      <td>81.51</td>\n",
              "      <td>0</td>\n",
              "    </tr>\n",
              "    <tr>\n",
              "      <th>2</th>\n",
              "      <td>2018-04-01 00:07:56</td>\n",
              "      <td>2</td>\n",
              "      <td>1365</td>\n",
              "      <td>146.00</td>\n",
              "      <td>0</td>\n",
              "    </tr>\n",
              "    <tr>\n",
              "      <th>3</th>\n",
              "      <td>2018-04-01 00:09:29</td>\n",
              "      <td>4128</td>\n",
              "      <td>8737</td>\n",
              "      <td>64.49</td>\n",
              "      <td>0</td>\n",
              "    </tr>\n",
              "  </tbody>\n",
              "</table>\n",
              "</div>\n",
              "    <div class=\"colab-df-buttons\">\n",
              "\n",
              "  <div class=\"colab-df-container\">\n",
              "    <button class=\"colab-df-convert\" onclick=\"convertToInteractive('df-eee070ef-dbdc-490f-9162-f6be94f515d3')\"\n",
              "            title=\"Convert this dataframe to an interactive table.\"\n",
              "            style=\"display:none;\">\n",
              "\n",
              "  <svg xmlns=\"http://www.w3.org/2000/svg\" height=\"24px\" viewBox=\"0 -960 960 960\">\n",
              "    <path d=\"M120-120v-720h720v720H120Zm60-500h600v-160H180v160Zm220 220h160v-160H400v160Zm0 220h160v-160H400v160ZM180-400h160v-160H180v160Zm440 0h160v-160H620v160ZM180-180h160v-160H180v160Zm440 0h160v-160H620v160Z\"/>\n",
              "  </svg>\n",
              "    </button>\n",
              "\n",
              "  <style>\n",
              "    .colab-df-container {\n",
              "      display:flex;\n",
              "      gap: 12px;\n",
              "    }\n",
              "\n",
              "    .colab-df-convert {\n",
              "      background-color: #E8F0FE;\n",
              "      border: none;\n",
              "      border-radius: 50%;\n",
              "      cursor: pointer;\n",
              "      display: none;\n",
              "      fill: #1967D2;\n",
              "      height: 32px;\n",
              "      padding: 0 0 0 0;\n",
              "      width: 32px;\n",
              "    }\n",
              "\n",
              "    .colab-df-convert:hover {\n",
              "      background-color: #E2EBFA;\n",
              "      box-shadow: 0px 1px 2px rgba(60, 64, 67, 0.3), 0px 1px 3px 1px rgba(60, 64, 67, 0.15);\n",
              "      fill: #174EA6;\n",
              "    }\n",
              "\n",
              "    .colab-df-buttons div {\n",
              "      margin-bottom: 4px;\n",
              "    }\n",
              "\n",
              "    [theme=dark] .colab-df-convert {\n",
              "      background-color: #3B4455;\n",
              "      fill: #D2E3FC;\n",
              "    }\n",
              "\n",
              "    [theme=dark] .colab-df-convert:hover {\n",
              "      background-color: #434B5C;\n",
              "      box-shadow: 0px 1px 3px 1px rgba(0, 0, 0, 0.15);\n",
              "      filter: drop-shadow(0px 1px 2px rgba(0, 0, 0, 0.3));\n",
              "      fill: #FFFFFF;\n",
              "    }\n",
              "  </style>\n",
              "\n",
              "    <script>\n",
              "      const buttonEl =\n",
              "        document.querySelector('#df-eee070ef-dbdc-490f-9162-f6be94f515d3 button.colab-df-convert');\n",
              "      buttonEl.style.display =\n",
              "        google.colab.kernel.accessAllowed ? 'block' : 'none';\n",
              "\n",
              "      async function convertToInteractive(key) {\n",
              "        const element = document.querySelector('#df-eee070ef-dbdc-490f-9162-f6be94f515d3');\n",
              "        const dataTable =\n",
              "          await google.colab.kernel.invokeFunction('convertToInteractive',\n",
              "                                                    [key], {});\n",
              "        if (!dataTable) return;\n",
              "\n",
              "        const docLinkHtml = 'Like what you see? Visit the ' +\n",
              "          '<a target=\"_blank\" href=https://colab.research.google.com/notebooks/data_table.ipynb>data table notebook</a>'\n",
              "          + ' to learn more about interactive tables.';\n",
              "        element.innerHTML = '';\n",
              "        dataTable['output_type'] = 'display_data';\n",
              "        await google.colab.output.renderOutput(dataTable, element);\n",
              "        const docLink = document.createElement('div');\n",
              "        docLink.innerHTML = docLinkHtml;\n",
              "        element.appendChild(docLink);\n",
              "      }\n",
              "    </script>\n",
              "  </div>\n",
              "\n",
              "\n",
              "<div id=\"df-9128dd39-4777-4684-a006-80a636cb9a1b\">\n",
              "  <button class=\"colab-df-quickchart\" onclick=\"quickchart('df-9128dd39-4777-4684-a006-80a636cb9a1b')\"\n",
              "            title=\"Suggest charts\"\n",
              "            style=\"display:none;\">\n",
              "\n",
              "<svg xmlns=\"http://www.w3.org/2000/svg\" height=\"24px\"viewBox=\"0 0 24 24\"\n",
              "     width=\"24px\">\n",
              "    <g>\n",
              "        <path d=\"M19 3H5c-1.1 0-2 .9-2 2v14c0 1.1.9 2 2 2h14c1.1 0 2-.9 2-2V5c0-1.1-.9-2-2-2zM9 17H7v-7h2v7zm4 0h-2V7h2v10zm4 0h-2v-4h2v4z\"/>\n",
              "    </g>\n",
              "</svg>\n",
              "  </button>\n",
              "\n",
              "<style>\n",
              "  .colab-df-quickchart {\n",
              "      --bg-color: #E8F0FE;\n",
              "      --fill-color: #1967D2;\n",
              "      --hover-bg-color: #E2EBFA;\n",
              "      --hover-fill-color: #174EA6;\n",
              "      --disabled-fill-color: #AAA;\n",
              "      --disabled-bg-color: #DDD;\n",
              "  }\n",
              "\n",
              "  [theme=dark] .colab-df-quickchart {\n",
              "      --bg-color: #3B4455;\n",
              "      --fill-color: #D2E3FC;\n",
              "      --hover-bg-color: #434B5C;\n",
              "      --hover-fill-color: #FFFFFF;\n",
              "      --disabled-bg-color: #3B4455;\n",
              "      --disabled-fill-color: #666;\n",
              "  }\n",
              "\n",
              "  .colab-df-quickchart {\n",
              "    background-color: var(--bg-color);\n",
              "    border: none;\n",
              "    border-radius: 50%;\n",
              "    cursor: pointer;\n",
              "    display: none;\n",
              "    fill: var(--fill-color);\n",
              "    height: 32px;\n",
              "    padding: 0;\n",
              "    width: 32px;\n",
              "  }\n",
              "\n",
              "  .colab-df-quickchart:hover {\n",
              "    background-color: var(--hover-bg-color);\n",
              "    box-shadow: 0 1px 2px rgba(60, 64, 67, 0.3), 0 1px 3px 1px rgba(60, 64, 67, 0.15);\n",
              "    fill: var(--button-hover-fill-color);\n",
              "  }\n",
              "\n",
              "  .colab-df-quickchart-complete:disabled,\n",
              "  .colab-df-quickchart-complete:disabled:hover {\n",
              "    background-color: var(--disabled-bg-color);\n",
              "    fill: var(--disabled-fill-color);\n",
              "    box-shadow: none;\n",
              "  }\n",
              "\n",
              "  .colab-df-spinner {\n",
              "    border: 2px solid var(--fill-color);\n",
              "    border-color: transparent;\n",
              "    border-bottom-color: var(--fill-color);\n",
              "    animation:\n",
              "      spin 1s steps(1) infinite;\n",
              "  }\n",
              "\n",
              "  @keyframes spin {\n",
              "    0% {\n",
              "      border-color: transparent;\n",
              "      border-bottom-color: var(--fill-color);\n",
              "      border-left-color: var(--fill-color);\n",
              "    }\n",
              "    20% {\n",
              "      border-color: transparent;\n",
              "      border-left-color: var(--fill-color);\n",
              "      border-top-color: var(--fill-color);\n",
              "    }\n",
              "    30% {\n",
              "      border-color: transparent;\n",
              "      border-left-color: var(--fill-color);\n",
              "      border-top-color: var(--fill-color);\n",
              "      border-right-color: var(--fill-color);\n",
              "    }\n",
              "    40% {\n",
              "      border-color: transparent;\n",
              "      border-right-color: var(--fill-color);\n",
              "      border-top-color: var(--fill-color);\n",
              "    }\n",
              "    60% {\n",
              "      border-color: transparent;\n",
              "      border-right-color: var(--fill-color);\n",
              "    }\n",
              "    80% {\n",
              "      border-color: transparent;\n",
              "      border-right-color: var(--fill-color);\n",
              "      border-bottom-color: var(--fill-color);\n",
              "    }\n",
              "    90% {\n",
              "      border-color: transparent;\n",
              "      border-bottom-color: var(--fill-color);\n",
              "    }\n",
              "  }\n",
              "</style>\n",
              "\n",
              "  <script>\n",
              "    async function quickchart(key) {\n",
              "      const quickchartButtonEl =\n",
              "        document.querySelector('#' + key + ' button');\n",
              "      quickchartButtonEl.disabled = true;  // To prevent multiple clicks.\n",
              "      quickchartButtonEl.classList.add('colab-df-spinner');\n",
              "      try {\n",
              "        const charts = await google.colab.kernel.invokeFunction(\n",
              "            'suggestCharts', [key], {});\n",
              "      } catch (error) {\n",
              "        console.error('Error during call to suggestCharts:', error);\n",
              "      }\n",
              "      quickchartButtonEl.classList.remove('colab-df-spinner');\n",
              "      quickchartButtonEl.classList.add('colab-df-quickchart-complete');\n",
              "    }\n",
              "    (() => {\n",
              "      let quickchartButtonEl =\n",
              "        document.querySelector('#df-9128dd39-4777-4684-a006-80a636cb9a1b button');\n",
              "      quickchartButtonEl.style.display =\n",
              "        google.colab.kernel.accessAllowed ? 'block' : 'none';\n",
              "    })();\n",
              "  </script>\n",
              "</div>\n",
              "\n",
              "    </div>\n",
              "  </div>\n"
            ],
            "application/vnd.google.colaboratory.intrinsic+json": {
              "type": "dataframe",
              "variable_name": "transactions_dataframe"
            }
          },
          "metadata": {},
          "execution_count": 18
        }
      ],
      "source": [
        "transactions_dataframe = transactions_dataframe[\n",
        "    [\"TX_DATETIME\", \"CUSTOMER_ID\", \"TERMINAL_ID\", \"TX_AMOUNT\", \"TX_FRAUD\"]\n",
        "]\n",
        "\n",
        "transactions_dataframe.head(4)"
      ]
    },
    {
      "cell_type": "code",
      "execution_count": 19,
      "metadata": {
        "id": "NCFmbtpoKz5I",
        "colab": {
          "base_uri": "https://localhost:8080/"
        },
        "outputId": "81ba7a30-43af-45cc-98c8-5b0472f94180"
      },
      "outputs": [
        {
          "output_type": "stream",
          "name": "stdout",
          "text": [
            "Rate of fraudulent transactions: 0.008369271814634397\n"
          ]
        }
      ],
      "source": [
        "fraudulent_rate = transactions_dataframe[\"TX_FRAUD\"].mean()\n",
        "print(\"Rate of fraudulent transactions:\", fraudulent_rate)"
      ]
    },
    {
      "cell_type": "markdown",
      "metadata": {
        "id": "NIe_ZFSWLE4K"
      },
      "source": [
        "**The pandas dataframe is converted into a Temporian EventSet**"
      ]
    },
    {
      "cell_type": "code",
      "execution_count": 20,
      "metadata": {
        "id": "ylNtPRSbLIe6",
        "colab": {
          "base_uri": "https://localhost:8080/",
          "height": 345
        },
        "outputId": "4fe98353-5f01-4aa9-91b3-be657f2b63b9"
      },
      "outputs": [
        {
          "output_type": "stream",
          "name": "stderr",
          "text": [
            "WARNING:root:Feature \"CUSTOMER_ID\" is an array of numpy.object_ and will be casted to numpy.string_ (Note: numpy.string_ is equivalent to numpy.bytes_).\n",
            "WARNING:root:Feature \"TERMINAL_ID\" is an array of numpy.object_ and will be casted to numpy.string_ (Note: numpy.string_ is equivalent to numpy.bytes_).\n"
          ]
        },
        {
          "output_type": "execute_result",
          "data": {
            "text/plain": [
              "indexes: []\n",
              "features: [('CUSTOMER_ID', str_), ('TERMINAL_ID', str_), ('TX_AMOUNT', float64), ('TX_FRAUD', int64)]\n",
              "events:\n",
              "     (1754155 events):\n",
              "        timestamps: ['2018-04-01T00:00:31' '2018-04-01T00:02:10' '2018-04-01T00:07:56' ...\n",
              "     '2018-09-30T23:58:21' '2018-09-30T23:59:52' '2018-09-30T23:59:57']\n",
              "        'CUSTOMER_ID': [b'596' b'4961' b'2' ... b'618' b'4056' b'3542']\n",
              "        'TERMINAL_ID': [b'3156' b'3412' b'1365' ... b'1502' b'3067' b'9849']\n",
              "        'TX_AMOUNT': [ 57.16  81.51 146.   ...   6.62  55.4   23.59]\n",
              "        'TX_FRAUD': [0 0 0 ... 0 0 0]\n",
              "memory usage: 28.1 MB"
            ],
            "text/html": [
              "<div>\n",
              "  <div style=\"display: table; margin-bottom:11px; padding:5px; font-size:small; line-height:120%; border:1px solid rgba(127, 127, 127, 0.2)\">\n",
              "    <div style=\"display: table\">\n",
              "      <span>\n",
              "        <span style=\"font-weight:bold\">features</span>\n",
              "        <span style=\"\"> [4]:</span>\n",
              "      </span>\n",
              "      <span style=\"color:#0077BB; font-weight:bold\">CUSTOMER_ID</span>\n",
              "      <span style=\"color:#009988\"> (str_)</span>\n",
              "      <span style=\"\">, </span>\n",
              "      <span style=\"color:#0077BB; font-weight:bold\">TERMINAL_ID</span>\n",
              "      <span style=\"color:#009988\"> (str_)</span>\n",
              "      <span style=\"\">, </span>\n",
              "      <span style=\"color:#0077BB; font-weight:bold\">TX_AMOUNT</span>\n",
              "      <span style=\"color:#009988\"> (float64)</span>\n",
              "      <span style=\"\">, </span>\n",
              "      <span style=\"color:#0077BB; font-weight:bold\">TX_FRAUD</span>\n",
              "      <span style=\"color:#009988\"> (int64)</span>\n",
              "    </div>\n",
              "    <div style=\"display: table\">\n",
              "      <span>\n",
              "        <span style=\"font-weight:bold\">indexes</span>\n",
              "        <span style=\"\"> [0]:</span>\n",
              "      </span>\n",
              "      <span style=\"font-style:italic\">none</span>\n",
              "    </div>\n",
              "    <div style=\"display: table\">\n",
              "      <span style=\"font-weight:bold\">events: </span>\n",
              "      <span style=\"\">1754155</span>\n",
              "    </div>\n",
              "    <div style=\"display: table\">\n",
              "      <span style=\"font-weight:bold\">index values: </span>\n",
              "      <span style=\"\">1</span>\n",
              "    </div>\n",
              "    <div style=\"display: table\">\n",
              "      <span style=\"font-weight:bold\">memory usage: </span>\n",
              "      <span style=\"\">28.1 MB</span>\n",
              "    </div>\n",
              "  </div>\n",
              "  <div style=\"display: table\">\n",
              "    <span style=\"font-weight:bold\">index</span>\n",
              "    <span style=\"\"> (</span>\n",
              "    <span style=\"\">) with 1754155 events</span>\n",
              "  </div>\n",
              "  <table style=\"margin-left:20px; border:1px solid rgba(127, 127, 127, 0.2)\">\n",
              "    <tr>\n",
              "      <th>\n",
              "        <b>\n",
              "          <span style=\"\">timestamp</span>\n",
              "        </b>\n",
              "      </th>\n",
              "      <th>\n",
              "        <b>\n",
              "          <span style=\"color:#0077BB; font-weight:bold; \">CUSTOMER_ID</span>\n",
              "        </b>\n",
              "      </th>\n",
              "      <th>\n",
              "        <b>\n",
              "          <span style=\"color:#0077BB; font-weight:bold; \">TERMINAL_ID</span>\n",
              "        </b>\n",
              "      </th>\n",
              "      <th>\n",
              "        <b>\n",
              "          <span style=\"color:#0077BB; font-weight:bold; \">TX_AMOUNT</span>\n",
              "        </b>\n",
              "      </th>\n",
              "      <th>\n",
              "        <b>\n",
              "          <span style=\"color:#0077BB; font-weight:bold; \">TX_FRAUD</span>\n",
              "        </b>\n",
              "      </th>\n",
              "    </tr>\n",
              "    <tr>\n",
              "      <td>\n",
              "        <span style=\"\">2018-04-01 00:00:31+00:00</span>\n",
              "      </td>\n",
              "      <td>\n",
              "        <span style=\"\">596</span>\n",
              "      </td>\n",
              "      <td>\n",
              "        <span style=\"\">3156</span>\n",
              "      </td>\n",
              "      <td>\n",
              "        <span style=\"\">57.16</span>\n",
              "      </td>\n",
              "      <td>\n",
              "        <span style=\"\">0</span>\n",
              "      </td>\n",
              "    </tr>\n",
              "    <tr>\n",
              "      <td>\n",
              "        <span style=\"\">2018-04-01 00:02:10+00:00</span>\n",
              "      </td>\n",
              "      <td>\n",
              "        <span style=\"\">4961</span>\n",
              "      </td>\n",
              "      <td>\n",
              "        <span style=\"\">3412</span>\n",
              "      </td>\n",
              "      <td>\n",
              "        <span style=\"\">81.51</span>\n",
              "      </td>\n",
              "      <td>\n",
              "        <span style=\"\">0</span>\n",
              "      </td>\n",
              "    </tr>\n",
              "    <tr>\n",
              "      <td>\n",
              "        <span style=\"\">2018-04-01 00:07:56+00:00</span>\n",
              "      </td>\n",
              "      <td>\n",
              "        <span style=\"\">2</span>\n",
              "      </td>\n",
              "      <td>\n",
              "        <span style=\"\">1365</span>\n",
              "      </td>\n",
              "      <td>\n",
              "        <span style=\"\">146</span>\n",
              "      </td>\n",
              "      <td>\n",
              "        <span style=\"\">0</span>\n",
              "      </td>\n",
              "    </tr>\n",
              "    <tr>\n",
              "      <td>\n",
              "        <span style=\"\">…</span>\n",
              "      </td>\n",
              "      <td>\n",
              "        <span style=\"\">…</span>\n",
              "      </td>\n",
              "      <td>\n",
              "        <span style=\"\">…</span>\n",
              "      </td>\n",
              "      <td>\n",
              "        <span style=\"\">…</span>\n",
              "      </td>\n",
              "      <td>\n",
              "        <span style=\"\">…</span>\n",
              "      </td>\n",
              "    </tr>\n",
              "    <tr>\n",
              "      <td>\n",
              "        <span style=\"\">2018-09-30 23:58:21+00:00</span>\n",
              "      </td>\n",
              "      <td>\n",
              "        <span style=\"\">618</span>\n",
              "      </td>\n",
              "      <td>\n",
              "        <span style=\"\">1502</span>\n",
              "      </td>\n",
              "      <td>\n",
              "        <span style=\"\">6.62</span>\n",
              "      </td>\n",
              "      <td>\n",
              "        <span style=\"\">0</span>\n",
              "      </td>\n",
              "    </tr>\n",
              "    <tr>\n",
              "      <td>\n",
              "        <span style=\"\">2018-09-30 23:59:52+00:00</span>\n",
              "      </td>\n",
              "      <td>\n",
              "        <span style=\"\">4056</span>\n",
              "      </td>\n",
              "      <td>\n",
              "        <span style=\"\">3067</span>\n",
              "      </td>\n",
              "      <td>\n",
              "        <span style=\"\">55.4</span>\n",
              "      </td>\n",
              "      <td>\n",
              "        <span style=\"\">0</span>\n",
              "      </td>\n",
              "    </tr>\n",
              "    <tr>\n",
              "      <td>\n",
              "        <span style=\"\">2018-09-30 23:59:57+00:00</span>\n",
              "      </td>\n",
              "      <td>\n",
              "        <span style=\"\">3542</span>\n",
              "      </td>\n",
              "      <td>\n",
              "        <span style=\"\">9849</span>\n",
              "      </td>\n",
              "      <td>\n",
              "        <span style=\"\">23.59</span>\n",
              "      </td>\n",
              "      <td>\n",
              "        <span style=\"\">0</span>\n",
              "      </td>\n",
              "    </tr>\n",
              "  </table>\n",
              "</div>\n"
            ]
          },
          "metadata": {},
          "execution_count": 20
        }
      ],
      "source": [
        "transactions_evset = tp.from_pandas(transactions_dataframe, timestamps=\"TX_DATETIME\")\n",
        "\n",
        "transactions_evset"
      ]
    },
    {
      "cell_type": "code",
      "execution_count": 21,
      "metadata": {
        "colab": {
          "base_uri": "https://localhost:8080/",
          "height": 456
        },
        "id": "2nlXlib_LP8g",
        "outputId": "9c36fae1-8bc6-4eff-e745-17ced2c6233f"
      },
      "outputs": [
        {
          "output_type": "display_data",
          "data": {
            "text/plain": [
              "<Figure size 1024x450 with 3 Axes>"
            ],
            "image/png": "[encoded data removed]"
          },
          "metadata": {}
        }
      ],
      "source": [
        "transactions_evset.add_index(\"CUSTOMER_ID\").plot(indexes=\"3774\")"
      ]
    },
    {
      "cell_type": "markdown",
      "metadata": {
        "id": "MehVdMhCMXVI"
      },
      "source": [
        "**Preparing the training data**"
      ]
    },
    {
      "cell_type": "code",
      "execution_count": 22,
      "metadata": {
        "colab": {
          "base_uri": "https://localhost:8080/",
          "height": 1000
        },
        "id": "53l2Xb6SMXFx",
        "outputId": "97fcb169-ddae-4d40-9f2e-d21146c0978a"
      },
      "outputs": [
        {
          "output_type": "execute_result",
          "data": {
            "text/plain": [
              "indexes: [('TERMINAL_ID', str_)]\n",
              "features: [('sum_transactions_7_days', float64), ('count_transactions_7_days', int32), ('sum_transactions_14_days', float64), ('count_transactions_14_days', int32), ('sum_transactions_28_days', float64), ('count_transactions_28_days', int32)]\n",
              "events:\n",
              "    TERMINAL_ID=b'0' (178 events):\n",
              "        timestamps: ['2018-04-02T01:00:01' '2018-04-02T09:49:55' '2018-04-03T12:14:41' ...\n",
              "     '2018-09-29T05:49:27' '2018-09-29T11:12:46' '2018-09-30T06:29:54']\n",
              "        'sum_transactions_7_days': [ 16.07  83.9  110.72 ... 871.6  910.36 799.27]\n",
              "        'count_transactions_7_days': [ 1  2  3 ... 11 12 12]\n",
              "        'sum_transactions_14_days': [  16.07   83.9   110.72 ... 1392.01 1430.77 1479.48]\n",
              "        'count_transactions_14_days': [ 1  2  3 ... 19 20 21]\n",
              "        'sum_transactions_28_days': [  16.07   83.9   110.72 ... 2344.72 2383.48 2417.86]\n",
              "        'count_transactions_28_days': [ 1  2  3 ... 36 37 37]\n",
              "    TERMINAL_ID=b'1' (139 events):\n",
              "        timestamps: ['2018-04-01T16:24:39' '2018-04-02T11:25:03' '2018-04-04T08:31:48' ...\n",
              "     '2018-09-25T09:13:17' '2018-09-26T19:08:41' '2018-09-30T13:41:36']\n",
              "        'sum_transactions_7_days': [ 70.36  87.79 211.58 ... 237.2  276.51 367.09]\n",
              "        'count_transactions_7_days': [1 2 3 ... 4 5 6]\n",
              "        'sum_transactions_14_days': [ 70.36  87.79 211.58 ... 464.6  490.25 405.84]\n",
              "        'count_transactions_14_days': [ 1  2  3 ... 11 11  8]\n",
              "        'sum_transactions_28_days': [  70.36   87.79  211.58 ... 1135.72 1112.6  1203.18]\n",
              "        'count_transactions_28_days': [ 1  2  3 ... 20 20 21]\n",
              "    TERMINAL_ID=b'10' (151 events):\n",
              "        timestamps: ['2018-04-01T14:11:55' '2018-04-02T11:01:07' '2018-04-03T13:46:58' ...\n",
              "     '2018-09-27T07:06:25' '2018-09-28T07:19:01' '2018-09-29T06:40:23']\n",
              "        'sum_transactions_7_days': [  2.9   17.04 118.18 ... 512.83 604.33 619.6 ]\n",
              "        'count_transactions_7_days': [ 1  2  3 ... 12 13 14]\n",
              "        'sum_transactions_14_days': [  2.9   17.04 118.18 ... 870.14 936.23 938.6 ]\n",
              "        'count_transactions_14_days': [ 1  2  3 ... 21 21 21]\n",
              "        'sum_transactions_28_days': [   2.9    17.04  118.18 ... 1262.62 1354.12 1369.39]\n",
              "        'count_transactions_28_days': [ 1  2  3 ... 29 30 31]\n",
              "    TERMINAL_ID=b'100' (188 events):\n",
              "        timestamps: ['2018-04-02T10:37:42' '2018-04-04T19:14:23' '2018-04-07T04:01:22' ...\n",
              "     '2018-09-29T07:29:50' '2018-09-29T10:50:07' '2018-09-29T12:29:01']\n",
              "        'sum_transactions_7_days': [  6.31  12.26  65.12 ... 638.49 651.31 683.65]\n",
              "        'count_transactions_7_days': [ 1  2  3 ... 11 12 13]\n",
              "        'sum_transactions_14_days': [   6.31   12.26   65.12 ... 1037.27 1050.09 1030.11]\n",
              "        'count_transactions_14_days': [ 1  2  3 ... 18 19 18]\n",
              "        'sum_transactions_28_days': [   6.31   12.26   65.12 ... 1933.14 1944.24 1976.58]\n",
              "        'count_transactions_28_days': [ 1  2  3 ... 37 37 38]\n",
              "    ... (showing 4 of 10000 indexes)\n",
              "memory usage: 85.8 MB"
            ],
            "text/html": [
              "<div>\n",
              "  <div style=\"display: table; margin-bottom:11px; padding:5px; font-size:small; line-height:120%; border:1px solid rgba(127, 127, 127, 0.2)\">\n",
              "    <div style=\"display: table\">\n",
              "      <span>\n",
              "        <span style=\"font-weight:bold\">features</span>\n",
              "        <span style=\"\"> [6]:</span>\n",
              "      </span>\n",
              "      <span style=\"color:#0077BB; font-weight:bold\">sum_transactions_7_days</span>\n",
              "      <span style=\"color:#009988\"> (float64)</span>\n",
              "      <span style=\"\">, </span>\n",
              "      <span style=\"color:#0077BB; font-weight:bold\">count_transactions_7_days</span>\n",
              "      <span style=\"color:#009988\"> (int32)</span>\n",
              "      <span style=\"\">, </span>\n",
              "      <span style=\"color:#0077BB; font-weight:bold\">sum_transactions_14_days</span>\n",
              "      <span style=\"color:#009988\"> (float64)</span>\n",
              "      <span style=\"\">, </span>\n",
              "      <span style=\"color:#0077BB; font-weight:bold\">count_transactions_14_days</span>\n",
              "      <span style=\"color:#009988\"> (int32)</span>\n",
              "      <span style=\"\">, </span>\n",
              "      <span style=\"color:#0077BB; font-weight:bold\">sum_transactions_28_days</span>\n",
              "      <span style=\"color:#009988\"> (float64)</span>\n",
              "      <span style=\"\">, </span>\n",
              "      <span style=\"color:#0077BB; font-weight:bold\">count_transactions_28_days</span>\n",
              "      <span style=\"color:#009988\"> (int32)</span>\n",
              "    </div>\n",
              "    <div style=\"display: table\">\n",
              "      <span>\n",
              "        <span style=\"font-weight:bold\">indexes</span>\n",
              "        <span style=\"\"> [1]:</span>\n",
              "      </span>\n",
              "      <span style=\"color:#EE7733; font-weight:bold\">TERMINAL_ID</span>\n",
              "      <span style=\"color:#009988\"> (str_)</span>\n",
              "    </div>\n",
              "    <div style=\"display: table\">\n",
              "      <span style=\"font-weight:bold\">events: </span>\n",
              "      <span style=\"\">1754155</span>\n",
              "    </div>\n",
              "    <div style=\"display: table\">\n",
              "      <span style=\"font-weight:bold\">index values: </span>\n",
              "      <span style=\"\">10000</span>\n",
              "    </div>\n",
              "    <div style=\"display: table\">\n",
              "      <span style=\"font-weight:bold\">memory usage: </span>\n",
              "      <span style=\"\">85.8 MB</span>\n",
              "    </div>\n",
              "  </div>\n",
              "  <div style=\"display: table\">\n",
              "    <span style=\"font-weight:bold\">index</span>\n",
              "    <span style=\"\"> (</span>\n",
              "    <span style=\"color:#EE7733; font-weight:bold\">TERMINAL_ID: </span>\n",
              "    <span style=\"color:#EE3377\">0</span>\n",
              "    <span style=\"\">) with 178 events</span>\n",
              "  </div>\n",
              "  <table style=\"margin-left:20px; border:1px solid rgba(127, 127, 127, 0.2)\">\n",
              "    <tr>\n",
              "      <th>\n",
              "        <b>\n",
              "          <span style=\"\">timestamp</span>\n",
              "        </b>\n",
              "      </th>\n",
              "      <th>\n",
              "        <b>\n",
              "          <span style=\"color:#0077BB; font-weight:bold; \">sum_transactions_7_days</span>\n",
              "        </b>\n",
              "      </th>\n",
              "      <th>\n",
              "        <b>\n",
              "          <span style=\"color:#0077BB; font-weight:bold; \">count_transactions_7_days</span>\n",
              "        </b>\n",
              "      </th>\n",
              "      <th>\n",
              "        <b>\n",
              "          <span style=\"color:#0077BB; font-weight:bold; \">sum_transactions_14_days</span>\n",
              "        </b>\n",
              "      </th>\n",
              "      <th>\n",
              "        <b>\n",
              "          <span style=\"color:#0077BB; font-weight:bold; \">count_transactions_14_days</span>\n",
              "        </b>\n",
              "      </th>\n",
              "      <th>\n",
              "        <b>\n",
              "          <span style=\"color:#0077BB; font-weight:bold; \">sum_transactions_28_days</span>\n",
              "        </b>\n",
              "      </th>\n",
              "      <th>\n",
              "        <b>\n",
              "          <span style=\"color:#0077BB; font-weight:bold; \">count_transactions_28_days</span>\n",
              "        </b>\n",
              "      </th>\n",
              "    </tr>\n",
              "    <tr>\n",
              "      <td>\n",
              "        <span style=\"\">2018-04-02 01:00:01+00:00</span>\n",
              "      </td>\n",
              "      <td>\n",
              "        <span style=\"\">16.07</span>\n",
              "      </td>\n",
              "      <td>\n",
              "        <span style=\"\">1</span>\n",
              "      </td>\n",
              "      <td>\n",
              "        <span style=\"\">16.07</span>\n",
              "      </td>\n",
              "      <td>\n",
              "        <span style=\"\">1</span>\n",
              "      </td>\n",
              "      <td>\n",
              "        <span style=\"\">16.07</span>\n",
              "      </td>\n",
              "      <td>\n",
              "        <span style=\"\">1</span>\n",
              "      </td>\n",
              "    </tr>\n",
              "    <tr>\n",
              "      <td>\n",
              "        <span style=\"\">2018-04-02 09:49:55+00:00</span>\n",
              "      </td>\n",
              "      <td>\n",
              "        <span style=\"\">83.9</span>\n",
              "      </td>\n",
              "      <td>\n",
              "        <span style=\"\">2</span>\n",
              "      </td>\n",
              "      <td>\n",
              "        <span style=\"\">83.9</span>\n",
              "      </td>\n",
              "      <td>\n",
              "        <span style=\"\">2</span>\n",
              "      </td>\n",
              "      <td>\n",
              "        <span style=\"\">83.9</span>\n",
              "      </td>\n",
              "      <td>\n",
              "        <span style=\"\">2</span>\n",
              "      </td>\n",
              "    </tr>\n",
              "    <tr>\n",
              "      <td>\n",
              "        <span style=\"\">2018-04-03 12:14:41+00:00</span>\n",
              "      </td>\n",
              "      <td>\n",
              "        <span style=\"\">110.7</span>\n",
              "      </td>\n",
              "      <td>\n",
              "        <span style=\"\">3</span>\n",
              "      </td>\n",
              "      <td>\n",
              "        <span style=\"\">110.7</span>\n",
              "      </td>\n",
              "      <td>\n",
              "        <span style=\"\">3</span>\n",
              "      </td>\n",
              "      <td>\n",
              "        <span style=\"\">110.7</span>\n",
              "      </td>\n",
              "      <td>\n",
              "        <span style=\"\">3</span>\n",
              "      </td>\n",
              "    </tr>\n",
              "    <tr>\n",
              "      <td>\n",
              "        <span style=\"\">…</span>\n",
              "      </td>\n",
              "      <td>\n",
              "        <span style=\"\">…</span>\n",
              "      </td>\n",
              "      <td>\n",
              "        <span style=\"\">…</span>\n",
              "      </td>\n",
              "      <td>\n",
              "        <span style=\"\">…</span>\n",
              "      </td>\n",
              "      <td>\n",
              "        <span style=\"\">…</span>\n",
              "      </td>\n",
              "      <td>\n",
              "        <span style=\"\">…</span>\n",
              "      </td>\n",
              "      <td>\n",
              "        <span style=\"\">…</span>\n",
              "      </td>\n",
              "    </tr>\n",
              "    <tr>\n",
              "      <td>\n",
              "        <span style=\"\">2018-09-29 05:49:27+00:00</span>\n",
              "      </td>\n",
              "      <td>\n",
              "        <span style=\"\">871.6</span>\n",
              "      </td>\n",
              "      <td>\n",
              "        <span style=\"\">11</span>\n",
              "      </td>\n",
              "      <td>\n",
              "        <span style=\"\">1392</span>\n",
              "      </td>\n",
              "      <td>\n",
              "        <span style=\"\">19</span>\n",
              "      </td>\n",
              "      <td>\n",
              "        <span style=\"\">2345</span>\n",
              "      </td>\n",
              "      <td>\n",
              "        <span style=\"\">36</span>\n",
              "      </td>\n",
              "    </tr>\n",
              "    <tr>\n",
              "      <td>\n",
              "        <span style=\"\">2018-09-29 11:12:46+00:00</span>\n",
              "      </td>\n",
              "      <td>\n",
              "        <span style=\"\">910.4</span>\n",
              "      </td>\n",
              "      <td>\n",
              "        <span style=\"\">12</span>\n",
              "      </td>\n",
              "      <td>\n",
              "        <span style=\"\">1431</span>\n",
              "      </td>\n",
              "      <td>\n",
              "        <span style=\"\">20</span>\n",
              "      </td>\n",
              "      <td>\n",
              "        <span style=\"\">2383</span>\n",
              "      </td>\n",
              "      <td>\n",
              "        <span style=\"\">37</span>\n",
              "      </td>\n",
              "    </tr>\n",
              "    <tr>\n",
              "      <td>\n",
              "        <span style=\"\">2018-09-30 06:29:54+00:00</span>\n",
              "      </td>\n",
              "      <td>\n",
              "        <span style=\"\">799.3</span>\n",
              "      </td>\n",
              "      <td>\n",
              "        <span style=\"\">12</span>\n",
              "      </td>\n",
              "      <td>\n",
              "        <span style=\"\">1479</span>\n",
              "      </td>\n",
              "      <td>\n",
              "        <span style=\"\">21</span>\n",
              "      </td>\n",
              "      <td>\n",
              "        <span style=\"\">2418</span>\n",
              "      </td>\n",
              "      <td>\n",
              "        <span style=\"\">37</span>\n",
              "      </td>\n",
              "    </tr>\n",
              "  </table>\n",
              "  <div style=\"display: table\">\n",
              "    <span style=\"font-weight:bold\">index</span>\n",
              "    <span style=\"\"> (</span>\n",
              "    <span style=\"color:#EE7733; font-weight:bold\">TERMINAL_ID: </span>\n",
              "    <span style=\"color:#EE3377\">1</span>\n",
              "    <span style=\"\">) with 139 events</span>\n",
              "  </div>\n",
              "  <table style=\"margin-left:20px; border:1px solid rgba(127, 127, 127, 0.2)\">\n",
              "    <tr>\n",
              "      <th>\n",
              "        <b>\n",
              "          <span style=\"\">timestamp</span>\n",
              "        </b>\n",
              "      </th>\n",
              "      <th>\n",
              "        <b>\n",
              "          <span style=\"color:#0077BB; font-weight:bold; \">sum_transactions_7_days</span>\n",
              "        </b>\n",
              "      </th>\n",
              "      <th>\n",
              "        <b>\n",
              "          <span style=\"color:#0077BB; font-weight:bold; \">count_transactions_7_days</span>\n",
              "        </b>\n",
              "      </th>\n",
              "      <th>\n",
              "        <b>\n",
              "          <span style=\"color:#0077BB; font-weight:bold; \">sum_transactions_14_days</span>\n",
              "        </b>\n",
              "      </th>\n",
              "      <th>\n",
              "        <b>\n",
              "          <span style=\"color:#0077BB; font-weight:bold; \">count_transactions_14_days</span>\n",
              "        </b>\n",
              "      </th>\n",
              "      <th>\n",
              "        <b>\n",
              "          <span style=\"color:#0077BB; font-weight:bold; \">sum_transactions_28_days</span>\n",
              "        </b>\n",
              "      </th>\n",
              "      <th>\n",
              "        <b>\n",
              "          <span style=\"color:#0077BB; font-weight:bold; \">count_transactions_28_days</span>\n",
              "        </b>\n",
              "      </th>\n",
              "    </tr>\n",
              "    <tr>\n",
              "      <td>\n",
              "        <span style=\"\">2018-04-01 16:24:39+00:00</span>\n",
              "      </td>\n",
              "      <td>\n",
              "        <span style=\"\">70.36</span>\n",
              "      </td>\n",
              "      <td>\n",
              "        <span style=\"\">1</span>\n",
              "      </td>\n",
              "      <td>\n",
              "        <span style=\"\">70.36</span>\n",
              "      </td>\n",
              "      <td>\n",
              "        <span style=\"\">1</span>\n",
              "      </td>\n",
              "      <td>\n",
              "        <span style=\"\">70.36</span>\n",
              "      </td>\n",
              "      <td>\n",
              "        <span style=\"\">1</span>\n",
              "      </td>\n",
              "    </tr>\n",
              "    <tr>\n",
              "      <td>\n",
              "        <span style=\"\">2018-04-02 11:25:03+00:00</span>\n",
              "      </td>\n",
              "      <td>\n",
              "        <span style=\"\">87.79</span>\n",
              "      </td>\n",
              "      <td>\n",
              "        <span style=\"\">2</span>\n",
              "      </td>\n",
              "      <td>\n",
              "        <span style=\"\">87.79</span>\n",
              "      </td>\n",
              "      <td>\n",
              "        <span style=\"\">2</span>\n",
              "      </td>\n",
              "      <td>\n",
              "        <span style=\"\">87.79</span>\n",
              "      </td>\n",
              "      <td>\n",
              "        <span style=\"\">2</span>\n",
              "      </td>\n",
              "    </tr>\n",
              "    <tr>\n",
              "      <td>\n",
              "        <span style=\"\">2018-04-04 08:31:48+00:00</span>\n",
              "      </td>\n",
              "      <td>\n",
              "        <span style=\"\">211.6</span>\n",
              "      </td>\n",
              "      <td>\n",
              "        <span style=\"\">3</span>\n",
              "      </td>\n",
              "      <td>\n",
              "        <span style=\"\">211.6</span>\n",
              "      </td>\n",
              "      <td>\n",
              "        <span style=\"\">3</span>\n",
              "      </td>\n",
              "      <td>\n",
              "        <span style=\"\">211.6</span>\n",
              "      </td>\n",
              "      <td>\n",
              "        <span style=\"\">3</span>\n",
              "      </td>\n",
              "    </tr>\n",
              "    <tr>\n",
              "      <td>\n",
              "        <span style=\"\">…</span>\n",
              "      </td>\n",
              "      <td>\n",
              "        <span style=\"\">…</span>\n",
              "      </td>\n",
              "      <td>\n",
              "        <span style=\"\">…</span>\n",
              "      </td>\n",
              "      <td>\n",
              "        <span style=\"\">…</span>\n",
              "      </td>\n",
              "      <td>\n",
              "        <span style=\"\">…</span>\n",
              "      </td>\n",
              "      <td>\n",
              "        <span style=\"\">…</span>\n",
              "      </td>\n",
              "      <td>\n",
              "        <span style=\"\">…</span>\n",
              "      </td>\n",
              "    </tr>\n",
              "    <tr>\n",
              "      <td>\n",
              "        <span style=\"\">2018-09-25 09:13:17+00:00</span>\n",
              "      </td>\n",
              "      <td>\n",
              "        <span style=\"\">237.2</span>\n",
              "      </td>\n",
              "      <td>\n",
              "        <span style=\"\">4</span>\n",
              "      </td>\n",
              "      <td>\n",
              "        <span style=\"\">464.6</span>\n",
              "      </td>\n",
              "      <td>\n",
              "        <span style=\"\">11</span>\n",
              "      </td>\n",
              "      <td>\n",
              "        <span style=\"\">1136</span>\n",
              "      </td>\n",
              "      <td>\n",
              "        <span style=\"\">20</span>\n",
              "      </td>\n",
              "    </tr>\n",
              "    <tr>\n",
              "      <td>\n",
              "        <span style=\"\">2018-09-26 19:08:41+00:00</span>\n",
              "      </td>\n",
              "      <td>\n",
              "        <span style=\"\">276.5</span>\n",
              "      </td>\n",
              "      <td>\n",
              "        <span style=\"\">5</span>\n",
              "      </td>\n",
              "      <td>\n",
              "        <span style=\"\">490.3</span>\n",
              "      </td>\n",
              "      <td>\n",
              "        <span style=\"\">11</span>\n",
              "      </td>\n",
              "      <td>\n",
              "        <span style=\"\">1113</span>\n",
              "      </td>\n",
              "      <td>\n",
              "        <span style=\"\">20</span>\n",
              "      </td>\n",
              "    </tr>\n",
              "    <tr>\n",
              "      <td>\n",
              "        <span style=\"\">2018-09-30 13:41:36+00:00</span>\n",
              "      </td>\n",
              "      <td>\n",
              "        <span style=\"\">367.1</span>\n",
              "      </td>\n",
              "      <td>\n",
              "        <span style=\"\">6</span>\n",
              "      </td>\n",
              "      <td>\n",
              "        <span style=\"\">405.8</span>\n",
              "      </td>\n",
              "      <td>\n",
              "        <span style=\"\">8</span>\n",
              "      </td>\n",
              "      <td>\n",
              "        <span style=\"\">1203</span>\n",
              "      </td>\n",
              "      <td>\n",
              "        <span style=\"\">21</span>\n",
              "      </td>\n",
              "    </tr>\n",
              "  </table>\n",
              "  <div style=\"display: table\">\n",
              "    <span style=\"font-weight:bold\">index</span>\n",
              "    <span style=\"\"> (</span>\n",
              "    <span style=\"color:#EE7733; font-weight:bold\">TERMINAL_ID: </span>\n",
              "    <span style=\"color:#EE3377\">10</span>\n",
              "    <span style=\"\">) with 151 events</span>\n",
              "  </div>\n",
              "  <table style=\"margin-left:20px; border:1px solid rgba(127, 127, 127, 0.2)\">\n",
              "    <tr>\n",
              "      <th>\n",
              "        <b>\n",
              "          <span style=\"\">timestamp</span>\n",
              "        </b>\n",
              "      </th>\n",
              "      <th>\n",
              "        <b>\n",
              "          <span style=\"color:#0077BB; font-weight:bold; \">sum_transactions_7_days</span>\n",
              "        </b>\n",
              "      </th>\n",
              "      <th>\n",
              "        <b>\n",
              "          <span style=\"color:#0077BB; font-weight:bold; \">count_transactions_7_days</span>\n",
              "        </b>\n",
              "      </th>\n",
              "      <th>\n",
              "        <b>\n",
              "          <span style=\"color:#0077BB; font-weight:bold; \">sum_transactions_14_days</span>\n",
              "        </b>\n",
              "      </th>\n",
              "      <th>\n",
              "        <b>\n",
              "          <span style=\"color:#0077BB; font-weight:bold; \">count_transactions_14_days</span>\n",
              "        </b>\n",
              "      </th>\n",
              "      <th>\n",
              "        <b>\n",
              "          <span style=\"color:#0077BB; font-weight:bold; \">sum_transactions_28_days</span>\n",
              "        </b>\n",
              "      </th>\n",
              "      <th>\n",
              "        <b>\n",
              "          <span style=\"color:#0077BB; font-weight:bold; \">count_transactions_28_days</span>\n",
              "        </b>\n",
              "      </th>\n",
              "    </tr>\n",
              "    <tr>\n",
              "      <td>\n",
              "        <span style=\"\">2018-04-01 14:11:55+00:00</span>\n",
              "      </td>\n",
              "      <td>\n",
              "        <span style=\"\">2.9</span>\n",
              "      </td>\n",
              "      <td>\n",
              "        <span style=\"\">1</span>\n",
              "      </td>\n",
              "      <td>\n",
              "        <span style=\"\">2.9</span>\n",
              "      </td>\n",
              "      <td>\n",
              "        <span style=\"\">1</span>\n",
              "      </td>\n",
              "      <td>\n",
              "        <span style=\"\">2.9</span>\n",
              "      </td>\n",
              "      <td>\n",
              "        <span style=\"\">1</span>\n",
              "      </td>\n",
              "    </tr>\n",
              "    <tr>\n",
              "      <td>\n",
              "        <span style=\"\">2018-04-02 11:01:07+00:00</span>\n",
              "      </td>\n",
              "      <td>\n",
              "        <span style=\"\">17.04</span>\n",
              "      </td>\n",
              "      <td>\n",
              "        <span style=\"\">2</span>\n",
              "      </td>\n",
              "      <td>\n",
              "        <span style=\"\">17.04</span>\n",
              "      </td>\n",
              "      <td>\n",
              "        <span style=\"\">2</span>\n",
              "      </td>\n",
              "      <td>\n",
              "        <span style=\"\">17.04</span>\n",
              "      </td>\n",
              "      <td>\n",
              "        <span style=\"\">2</span>\n",
              "      </td>\n",
              "    </tr>\n",
              "    <tr>\n",
              "      <td>\n",
              "        <span style=\"\">2018-04-03 13:46:58+00:00</span>\n",
              "      </td>\n",
              "      <td>\n",
              "        <span style=\"\">118.2</span>\n",
              "      </td>\n",
              "      <td>\n",
              "        <span style=\"\">3</span>\n",
              "      </td>\n",
              "      <td>\n",
              "        <span style=\"\">118.2</span>\n",
              "      </td>\n",
              "      <td>\n",
              "        <span style=\"\">3</span>\n",
              "      </td>\n",
              "      <td>\n",
              "        <span style=\"\">118.2</span>\n",
              "      </td>\n",
              "      <td>\n",
              "        <span style=\"\">3</span>\n",
              "      </td>\n",
              "    </tr>\n",
              "    <tr>\n",
              "      <td>\n",
              "        <span style=\"\">…</span>\n",
              "      </td>\n",
              "      <td>\n",
              "        <span style=\"\">…</span>\n",
              "      </td>\n",
              "      <td>\n",
              "        <span style=\"\">…</span>\n",
              "      </td>\n",
              "      <td>\n",
              "        <span style=\"\">…</span>\n",
              "      </td>\n",
              "      <td>\n",
              "        <span style=\"\">…</span>\n",
              "      </td>\n",
              "      <td>\n",
              "        <span style=\"\">…</span>\n",
              "      </td>\n",
              "      <td>\n",
              "        <span style=\"\">…</span>\n",
              "      </td>\n",
              "    </tr>\n",
              "    <tr>\n",
              "      <td>\n",
              "        <span style=\"\">2018-09-27 07:06:25+00:00</span>\n",
              "      </td>\n",
              "      <td>\n",
              "        <span style=\"\">512.8</span>\n",
              "      </td>\n",
              "      <td>\n",
              "        <span style=\"\">12</span>\n",
              "      </td>\n",
              "      <td>\n",
              "        <span style=\"\">870.1</span>\n",
              "      </td>\n",
              "      <td>\n",
              "        <span style=\"\">21</span>\n",
              "      </td>\n",
              "      <td>\n",
              "        <span style=\"\">1263</span>\n",
              "      </td>\n",
              "      <td>\n",
              "        <span style=\"\">29</span>\n",
              "      </td>\n",
              "    </tr>\n",
              "    <tr>\n",
              "      <td>\n",
              "        <span style=\"\">2018-09-28 07:19:01+00:00</span>\n",
              "      </td>\n",
              "      <td>\n",
              "        <span style=\"\">604.3</span>\n",
              "      </td>\n",
              "      <td>\n",
              "        <span style=\"\">13</span>\n",
              "      </td>\n",
              "      <td>\n",
              "        <span style=\"\">936.2</span>\n",
              "      </td>\n",
              "      <td>\n",
              "        <span style=\"\">21</span>\n",
              "      </td>\n",
              "      <td>\n",
              "        <span style=\"\">1354</span>\n",
              "      </td>\n",
              "      <td>\n",
              "        <span style=\"\">30</span>\n",
              "      </td>\n",
              "    </tr>\n",
              "    <tr>\n",
              "      <td>\n",
              "        <span style=\"\">2018-09-29 06:40:23+00:00</span>\n",
              "      </td>\n",
              "      <td>\n",
              "        <span style=\"\">619.6</span>\n",
              "      </td>\n",
              "      <td>\n",
              "        <span style=\"\">14</span>\n",
              "      </td>\n",
              "      <td>\n",
              "        <span style=\"\">938.6</span>\n",
              "      </td>\n",
              "      <td>\n",
              "        <span style=\"\">21</span>\n",
              "      </td>\n",
              "      <td>\n",
              "        <span style=\"\">1369</span>\n",
              "      </td>\n",
              "      <td>\n",
              "        <span style=\"\">31</span>\n",
              "      </td>\n",
              "    </tr>\n",
              "  </table>\n",
              "  <div style=\"display: table\">\n",
              "    <span style=\"font-weight:bold\">index</span>\n",
              "    <span style=\"\"> (</span>\n",
              "    <span style=\"color:#EE7733; font-weight:bold\">TERMINAL_ID: </span>\n",
              "    <span style=\"color:#EE3377\">100</span>\n",
              "    <span style=\"\">) with 188 events</span>\n",
              "  </div>\n",
              "  <table style=\"margin-left:20px; border:1px solid rgba(127, 127, 127, 0.2)\">\n",
              "    <tr>\n",
              "      <th>\n",
              "        <b>\n",
              "          <span style=\"\">timestamp</span>\n",
              "        </b>\n",
              "      </th>\n",
              "      <th>\n",
              "        <b>\n",
              "          <span style=\"color:#0077BB; font-weight:bold; \">sum_transactions_7_days</span>\n",
              "        </b>\n",
              "      </th>\n",
              "      <th>\n",
              "        <b>\n",
              "          <span style=\"color:#0077BB; font-weight:bold; \">count_transactions_7_days</span>\n",
              "        </b>\n",
              "      </th>\n",
              "      <th>\n",
              "        <b>\n",
              "          <span style=\"color:#0077BB; font-weight:bold; \">sum_transactions_14_days</span>\n",
              "        </b>\n",
              "      </th>\n",
              "      <th>\n",
              "        <b>\n",
              "          <span style=\"color:#0077BB; font-weight:bold; \">count_transactions_14_days</span>\n",
              "        </b>\n",
              "      </th>\n",
              "      <th>\n",
              "        <b>\n",
              "          <span style=\"color:#0077BB; font-weight:bold; \">sum_transactions_28_days</span>\n",
              "        </b>\n",
              "      </th>\n",
              "      <th>\n",
              "        <b>\n",
              "          <span style=\"color:#0077BB; font-weight:bold; \">count_transactions_28_days</span>\n",
              "        </b>\n",
              "      </th>\n",
              "    </tr>\n",
              "    <tr>\n",
              "      <td>\n",
              "        <span style=\"\">2018-04-02 10:37:42+00:00</span>\n",
              "      </td>\n",
              "      <td>\n",
              "        <span style=\"\">6.31</span>\n",
              "      </td>\n",
              "      <td>\n",
              "        <span style=\"\">1</span>\n",
              "      </td>\n",
              "      <td>\n",
              "        <span style=\"\">6.31</span>\n",
              "      </td>\n",
              "      <td>\n",
              "        <span style=\"\">1</span>\n",
              "      </td>\n",
              "      <td>\n",
              "        <span style=\"\">6.31</span>\n",
              "      </td>\n",
              "      <td>\n",
              "        <span style=\"\">1</span>\n",
              "      </td>\n",
              "    </tr>\n",
              "    <tr>\n",
              "      <td>\n",
              "        <span style=\"\">2018-04-04 19:14:23+00:00</span>\n",
              "      </td>\n",
              "      <td>\n",
              "        <span style=\"\">12.26</span>\n",
              "      </td>\n",
              "      <td>\n",
              "        <span style=\"\">2</span>\n",
              "      </td>\n",
              "      <td>\n",
              "        <span style=\"\">12.26</span>\n",
              "      </td>\n",
              "      <td>\n",
              "        <span style=\"\">2</span>\n",
              "      </td>\n",
              "      <td>\n",
              "        <span style=\"\">12.26</span>\n",
              "      </td>\n",
              "      <td>\n",
              "        <span style=\"\">2</span>\n",
              "      </td>\n",
              "    </tr>\n",
              "    <tr>\n",
              "      <td>\n",
              "        <span style=\"\">2018-04-07 04:01:22+00:00</span>\n",
              "      </td>\n",
              "      <td>\n",
              "        <span style=\"\">65.12</span>\n",
              "      </td>\n",
              "      <td>\n",
              "        <span style=\"\">3</span>\n",
              "      </td>\n",
              "      <td>\n",
              "        <span style=\"\">65.12</span>\n",
              "      </td>\n",
              "      <td>\n",
              "        <span style=\"\">3</span>\n",
              "      </td>\n",
              "      <td>\n",
              "        <span style=\"\">65.12</span>\n",
              "      </td>\n",
              "      <td>\n",
              "        <span style=\"\">3</span>\n",
              "      </td>\n",
              "    </tr>\n",
              "    <tr>\n",
              "      <td>\n",
              "        <span style=\"\">…</span>\n",
              "      </td>\n",
              "      <td>\n",
              "        <span style=\"\">…</span>\n",
              "      </td>\n",
              "      <td>\n",
              "        <span style=\"\">…</span>\n",
              "      </td>\n",
              "      <td>\n",
              "        <span style=\"\">…</span>\n",
              "      </td>\n",
              "      <td>\n",
              "        <span style=\"\">…</span>\n",
              "      </td>\n",
              "      <td>\n",
              "        <span style=\"\">…</span>\n",
              "      </td>\n",
              "      <td>\n",
              "        <span style=\"\">…</span>\n",
              "      </td>\n",
              "    </tr>\n",
              "    <tr>\n",
              "      <td>\n",
              "        <span style=\"\">2018-09-29 07:29:50+00:00</span>\n",
              "      </td>\n",
              "      <td>\n",
              "        <span style=\"\">638.5</span>\n",
              "      </td>\n",
              "      <td>\n",
              "        <span style=\"\">11</span>\n",
              "      </td>\n",
              "      <td>\n",
              "        <span style=\"\">1037</span>\n",
              "      </td>\n",
              "      <td>\n",
              "        <span style=\"\">18</span>\n",
              "      </td>\n",
              "      <td>\n",
              "        <span style=\"\">1933</span>\n",
              "      </td>\n",
              "      <td>\n",
              "        <span style=\"\">37</span>\n",
              "      </td>\n",
              "    </tr>\n",
              "    <tr>\n",
              "      <td>\n",
              "        <span style=\"\">2018-09-29 10:50:07+00:00</span>\n",
              "      </td>\n",
              "      <td>\n",
              "        <span style=\"\">651.3</span>\n",
              "      </td>\n",
              "      <td>\n",
              "        <span style=\"\">12</span>\n",
              "      </td>\n",
              "      <td>\n",
              "        <span style=\"\">1050</span>\n",
              "      </td>\n",
              "      <td>\n",
              "        <span style=\"\">19</span>\n",
              "      </td>\n",
              "      <td>\n",
              "        <span style=\"\">1944</span>\n",
              "      </td>\n",
              "      <td>\n",
              "        <span style=\"\">37</span>\n",
              "      </td>\n",
              "    </tr>\n",
              "    <tr>\n",
              "      <td>\n",
              "        <span style=\"\">2018-09-29 12:29:01+00:00</span>\n",
              "      </td>\n",
              "      <td>\n",
              "        <span style=\"\">683.6</span>\n",
              "      </td>\n",
              "      <td>\n",
              "        <span style=\"\">13</span>\n",
              "      </td>\n",
              "      <td>\n",
              "        <span style=\"\">1030</span>\n",
              "      </td>\n",
              "      <td>\n",
              "        <span style=\"\">18</span>\n",
              "      </td>\n",
              "      <td>\n",
              "        <span style=\"\">1977</span>\n",
              "      </td>\n",
              "      <td>\n",
              "        <span style=\"\">38</span>\n",
              "      </td>\n",
              "    </tr>\n",
              "  </table>\n",
              "  <span style=\"\">… (9996 more indexes not shown)</span>\n",
              "</div>\n"
            ]
          },
          "metadata": {},
          "execution_count": 22
        }
      ],
      "source": [
        "# Group the transactions per terminal\n",
        "transactions_per_terminal = transactions_evset.add_index(\"TERMINAL_ID\")\n",
        "\n",
        "# Moving statistics per terminal\n",
        "tmp_features = []\n",
        "for n in [7, 14, 28]:\n",
        "    tmp_features.append(\n",
        "        transactions_per_terminal[\"TX_AMOUNT\"]\n",
        "        .moving_sum(tp.duration.days(n))\n",
        "        .rename(f\"sum_transactions_{n}_days\")\n",
        "    )\n",
        "\n",
        "    tmp_features.append(\n",
        "        transactions_per_terminal.moving_count(tp.duration.days(n)).rename(\n",
        "            f\"count_transactions_{n}_days\"\n",
        "        )\n",
        "    )\n",
        "\n",
        "feature_set_1 = tp.glue(*tmp_features)\n",
        "\n",
        "feature_set_1"
      ]
    },
    {
      "cell_type": "markdown",
      "metadata": {
        "id": "cb8YYW7JMcUW"
      },
      "source": [
        "**Feature Terminal**"
      ]
    },
    {
      "cell_type": "code",
      "execution_count": 24,
      "metadata": {
        "id": "B7NCbf1KMcxv",
        "colab": {
          "base_uri": "https://localhost:8080/",
          "height": 907
        },
        "outputId": "e141833e-af73-4ede-bd82-4127fb8fde6e"
      },
      "outputs": [
        {
          "output_type": "display_data",
          "data": {
            "text/plain": [
              "<Figure size 1024x900 with 6 Axes>"
            ],
            "image/png": "[encoded data removed]"
          },
          "metadata": {}
        }
      ],
      "source": [
        "feature_set_1.plot(indexes=\"3765\")"
      ]
    },
    {
      "cell_type": "markdown",
      "metadata": {
        "id": "lzzWWA0wVmms"
      },
      "source": [
        "**Evaluation**"
      ]
    },
    {
      "cell_type": "code",
      "execution_count": 29,
      "metadata": {
        "id": "KJWDLx0IVooz"
      },
      "outputs": [],
      "source": [
        "# Lag the transactions by one week.\n",
        "lagged_transactions = transactions_per_terminal.lag(tp.duration.weeks(1))\n",
        "\n",
        "# Moving statistics per customer\n",
        "tmp_features = []\n",
        "for n in [7, 14, 28]:\n",
        "    tmp_features.append(\n",
        "        lagged_transactions[\"TX_FRAUD\"]\n",
        "        .moving_sum(tp.duration.days(n), sampling=transactions_per_terminal)\n",
        "        .rename(f\"count_fraud_transactions_{n}_days\")\n",
        "    )\n",
        "\n",
        "    tmp_features.append(\n",
        "        lagged_transactions[\"TX_FRAUD\"]\n",
        "        .cast(tp.float32)\n",
        "        .simple_moving_average(tp.duration.days(n), sampling=transactions_per_terminal)\n",
        "        .rename(f\"rate_fraud_transactions_{n}_days\")\n",
        "    )\n",
        "\n",
        "feature_set_2 = tp.glue(*tmp_features)"
      ]
    },
    {
      "cell_type": "code",
      "source": [
        "feature_set_3 = tp.glue(\n",
        "    transactions_per_terminal.calendar_hour(),\n",
        "    transactions_per_terminal.calendar_day_of_week(),\n",
        ")"
      ],
      "metadata": {
        "id": "dLWBPelwb6Nz"
      },
      "execution_count": 27,
      "outputs": []
    },
    {
      "cell_type": "code",
      "source": [
        "all_data = tp.glue(\n",
        "    transactions_per_terminal, feature_set_1, feature_set_2, feature_set_3\n",
        ").drop_index()\n",
        "\n",
        "print(\"All the available features:\")\n",
        "all_data.schema.feature_names()"
      ],
      "metadata": {
        "colab": {
          "base_uri": "https://localhost:8080/"
        },
        "id": "YxPda3Bzb6Xa",
        "outputId": "4352bd80-ab36-4dbf-e9cb-b7142ec07083"
      },
      "execution_count": 30,
      "outputs": [
        {
          "output_type": "stream",
          "name": "stdout",
          "text": [
            "All the available features:\n"
          ]
        },
        {
          "output_type": "execute_result",
          "data": {
            "text/plain": [
              "['CUSTOMER_ID',\n",
              " 'TX_AMOUNT',\n",
              " 'TX_FRAUD',\n",
              " 'sum_transactions_7_days',\n",
              " 'count_transactions_7_days',\n",
              " 'sum_transactions_14_days',\n",
              " 'count_transactions_14_days',\n",
              " 'sum_transactions_28_days',\n",
              " 'count_transactions_28_days',\n",
              " 'count_fraud_transactions_7_days',\n",
              " 'rate_fraud_transactions_7_days',\n",
              " 'count_fraud_transactions_14_days',\n",
              " 'rate_fraud_transactions_14_days',\n",
              " 'count_fraud_transactions_28_days',\n",
              " 'rate_fraud_transactions_28_days',\n",
              " 'calendar_hour',\n",
              " 'calendar_day_of_week',\n",
              " 'TERMINAL_ID']"
            ]
          },
          "metadata": {},
          "execution_count": 30
        }
      ]
    },
    {
      "cell_type": "code",
      "source": [
        "input_feature_names = [k for k in all_data.schema.feature_names() if k.islower()]\n",
        "\n",
        "print(\"The model's input features:\")\n",
        "input_feature_names"
      ],
      "metadata": {
        "colab": {
          "base_uri": "https://localhost:8080/"
        },
        "id": "qcVgtQmab6aK",
        "outputId": "3899174f-abbe-49ff-ad9b-696be880b5f6"
      },
      "execution_count": 31,
      "outputs": [
        {
          "output_type": "stream",
          "name": "stdout",
          "text": [
            "The model's input features:\n"
          ]
        },
        {
          "output_type": "execute_result",
          "data": {
            "text/plain": [
              "['sum_transactions_7_days',\n",
              " 'count_transactions_7_days',\n",
              " 'sum_transactions_14_days',\n",
              " 'count_transactions_14_days',\n",
              " 'sum_transactions_28_days',\n",
              " 'count_transactions_28_days',\n",
              " 'count_fraud_transactions_7_days',\n",
              " 'rate_fraud_transactions_7_days',\n",
              " 'count_fraud_transactions_14_days',\n",
              " 'rate_fraud_transactions_14_days',\n",
              " 'count_fraud_transactions_28_days',\n",
              " 'rate_fraud_transactions_28_days',\n",
              " 'calendar_hour',\n",
              " 'calendar_day_of_week']"
            ]
          },
          "metadata": {},
          "execution_count": 31
        }
      ]
    },
    {
      "cell_type": "code",
      "source": [
        "# Cast all values (e.g. ints) to floats.\n",
        "values = all_data[input_feature_names].cast(tp.float32)\n",
        "\n",
        "# Apply z-normalization overtime.\n",
        "normalized_features = (\n",
        "    values - values.simple_moving_average(math.inf)\n",
        ") / values.moving_standard_deviation(math.inf)\n",
        "\n",
        "# Restore the original name of the features.\n",
        "normalized_features = normalized_features.rename(values.schema.feature_names())\n",
        "\n",
        "print(normalized_features)"
      ],
      "metadata": {
        "colab": {
          "base_uri": "https://localhost:8080/"
        },
        "id": "oWJ3IYY-b6dB",
        "outputId": "6625c71f-4372-4d8b-b19c-4b3bffa94b22"
      },
      "execution_count": 32,
      "outputs": [
        {
          "output_type": "stream",
          "name": "stdout",
          "text": [
            "indexes: []\n",
            "features: [('sum_transactions_7_days', float32), ('count_transactions_7_days', float32), ('sum_transactions_14_days', float32), ('count_transactions_14_days', float32), ('sum_transactions_28_days', float32), ('count_transactions_28_days', float32), ('count_fraud_transactions_7_days', float32), ('rate_fraud_transactions_7_days', float32), ('count_fraud_transactions_14_days', float32), ('rate_fraud_transactions_14_days', float32), ('count_fraud_transactions_28_days', float32), ('rate_fraud_transactions_28_days', float32), ('calendar_hour', float32), ('calendar_day_of_week', float32)]\n",
            "events:\n",
            "     (1754155 events):\n",
            "        timestamps: ['2018-04-01T00:00:31' '2018-04-01T00:02:10' '2018-04-01T00:07:56' ...\n",
            "     '2018-09-30T23:58:21' '2018-09-30T23:59:52' '2018-09-30T23:59:57']\n",
            "        'sum_transactions_7_days': [ 0.      1.      1.3636 ... -0.064  -0.2059  0.8428]\n",
            "        'count_transactions_7_days': [   nan    nan    nan ... 1.0128 0.6892 1.66  ]\n",
            "        'sum_transactions_14_days': [ 0.      1.      1.3636 ... -0.7811  0.156   1.379 ]\n",
            "        'count_transactions_14_days': [   nan    nan    nan ... 0.2969 0.2969 2.0532]\n",
            "        'sum_transactions_28_days': [ 0.      1.      1.3636 ... -0.7154 -0.2989  1.9396]\n",
            "        'count_transactions_28_days': [    nan     nan     nan ...  0.1172 -0.1958  1.8908]\n",
            "        'count_fraud_transactions_7_days': [    nan     nan     nan ... -0.1043 -0.1043 -0.1043]\n",
            "        'rate_fraud_transactions_7_days': [    nan     nan     nan ... -0.1137 -0.1137 -0.1137]\n",
            "        'count_fraud_transactions_14_days': [    nan     nan     nan ... -0.1133 -0.1133  0.9303]\n",
            "        'rate_fraud_transactions_14_days': [    nan     nan     nan ... -0.1216 -0.1216  0.5275]\n",
            "        ...\n",
            "memory usage: 112.3 MB\n",
            "\n"
          ]
        },
        {
          "output_type": "stream",
          "name": "stderr",
          "text": [
            "/usr/local/lib/python3.10/dist-packages/temporian/implementation/numpy/operators/binary/arithmetic.py:100: RuntimeWarning: invalid value encountered in divide\n",
            "  return evset_1_feature / evset_2_feature\n"
          ]
        }
      ]
    },
    {
      "cell_type": "code",
      "source": [
        "normalized_features = normalized_features.fillna(0.0)"
      ],
      "metadata": {
        "id": "uUH3yosNcWh4"
      },
      "execution_count": 33,
      "outputs": []
    },
    {
      "cell_type": "code",
      "source": [
        "normalized_all_data = tp.glue(normalized_features, all_data[\"TX_FRAUD\"])"
      ],
      "metadata": {
        "id": "-58VEVyZcYj3"
      },
      "execution_count": 34,
      "outputs": []
    },
    {
      "cell_type": "markdown",
      "source": [
        "**Split dataset into a train, validation and test set**"
      ],
      "metadata": {
        "id": "PrZR9ugIcbT_"
      }
    },
    {
      "cell_type": "code",
      "source": [
        "# begin_train = datetime.datetime(2018, 4, 8).timestamp() # Full training dataset\n",
        "begin_train = datetime.datetime(2018, 7, 1).timestamp()  # Reduced training dataset\n",
        "begin_valid = datetime.datetime(2018, 8, 1).timestamp()\n",
        "begin_test = datetime.datetime(2018, 9, 1).timestamp()\n",
        "\n",
        "is_train = (normalized_all_data.timestamps() >= begin_train) & (\n",
        "    normalized_all_data.timestamps() < begin_valid\n",
        ")\n",
        "is_valid = (normalized_all_data.timestamps() >= begin_valid) & (\n",
        "    normalized_all_data.timestamps() < begin_test\n",
        ")\n",
        "is_test = normalized_all_data.timestamps() >= begin_test"
      ],
      "metadata": {
        "id": "PztB4xxjcd_u"
      },
      "execution_count": 35,
      "outputs": []
    },
    {
      "cell_type": "code",
      "source": [
        "tp.plot(\n",
        "    [\n",
        "        is_train.rename(\"is_train\"),\n",
        "        is_valid.rename(\"is_valid\"),\n",
        "        is_test.rename(\"is_test\"),\n",
        "    ]\n",
        ")"
      ],
      "metadata": {
        "colab": {
          "base_uri": "https://localhost:8080/",
          "height": 456
        },
        "id": "wOSOmFVGcjp_",
        "outputId": "a1be2538-378f-4b4b-f6b5-72f3ddf35772"
      },
      "execution_count": 36,
      "outputs": [
        {
          "output_type": "display_data",
          "data": {
            "text/plain": [
              "<Figure size 1024x450 with 3 Axes>"
            ],
            "image/png": "[encoded data removed]"
          },
          "metadata": {}
        }
      ]
    },
    {
      "cell_type": "code",
      "source": [
        "train_ds_evset = normalized_all_data.filter(is_train)\n",
        "valid_ds_evset = normalized_all_data.filter(is_valid)\n",
        "test_ds_evset = normalized_all_data.filter(is_test)\n",
        "\n",
        "print(f\"Training examples: {train_ds_evset.num_events()}\")\n",
        "print(f\"Validation examples: {valid_ds_evset.num_events()}\")\n",
        "print(f\"Testing examples: {test_ds_evset.num_events()}\")"
      ],
      "metadata": {
        "colab": {
          "base_uri": "https://localhost:8080/"
        },
        "id": "-mbOVcKNc1FB",
        "outputId": "d725f31e-0f81-48d1-ba0b-8f1e89d4b08e"
      },
      "execution_count": 37,
      "outputs": [
        {
          "output_type": "stream",
          "name": "stdout",
          "text": [
            "Training examples: 296928\n",
            "Validation examples: 296559\n",
            "Testing examples: 287873\n"
          ]
        }
      ]
    },
    {
      "cell_type": "markdown",
      "source": [
        "**Create TensorFlow datasets**"
      ],
      "metadata": {
        "id": "qBrisLYwc5p_"
      }
    },
    {
      "cell_type": "code",
      "source": [
        "non_batched_train_ds = tp.to_tensorflow_dataset(train_ds_evset)\n",
        "non_batched_valid_ds = tp.to_tensorflow_dataset(valid_ds_evset)\n",
        "non_batched_test_ds = tp.to_tensorflow_dataset(test_ds_evset)"
      ],
      "metadata": {
        "id": "_E3UCk_-c47-"
      },
      "execution_count": 38,
      "outputs": []
    },
    {
      "cell_type": "code",
      "source": [
        "def extract_features_and_label(example):\n",
        "    features = {k: example[k] for k in input_feature_names}\n",
        "    labels = tf.cast(example[\"TX_FRAUD\"], tf.int32)\n",
        "    return features, labels\n",
        "\n",
        "\n",
        "# Target ratio of fraudulent transactions in the training dataset.\n",
        "target_rate = 0.2\n",
        "\n",
        "# Number of examples in a mini-batch.\n",
        "batch_size = 32\n",
        "\n",
        "train_ds = (\n",
        "    non_batched_train_ds.shuffle(10000)\n",
        "    .rejection_resample(\n",
        "        class_func=lambda x: tf.cast(x[\"TX_FRAUD\"], tf.int32),\n",
        "        target_dist=[1 - target_rate, target_rate],\n",
        "        initial_dist=[1 - fraudulent_rate, fraudulent_rate],\n",
        "    )\n",
        "    .map(lambda _, x: x)  # Remove the label copy added by \"rejection_resample\".\n",
        "    .batch(batch_size)\n",
        "    .map(extract_features_and_label)\n",
        "    .prefetch(tf.data.AUTOTUNE)\n",
        ")\n",
        "\n",
        "# The test and validation dataset does not need resampling or shuffling.\n",
        "valid_ds = (\n",
        "    non_batched_valid_ds.batch(batch_size)\n",
        "    .map(extract_features_and_label)\n",
        "    .prefetch(tf.data.AUTOTUNE)\n",
        ")\n",
        "test_ds = (\n",
        "    non_batched_test_ds.batch(batch_size)\n",
        "    .map(extract_features_and_label)\n",
        "    .prefetch(tf.data.AUTOTUNE)\n",
        ")"
      ],
      "metadata": {
        "colab": {
          "base_uri": "https://localhost:8080/"
        },
        "id": "RvVTa_HSdK1u",
        "outputId": "cf728261-ce72-440b-f12b-6b4060b7363e"
      },
      "execution_count": 39,
      "outputs": [
        {
          "output_type": "stream",
          "name": "stderr",
          "text": [
            "WARNING:tensorflow:From /usr/local/lib/python3.10/dist-packages/tensorflow/python/data/ops/dataset_ops.py:4968: Print (from tensorflow.python.ops.logging_ops) is deprecated and will be removed after 2018-08-20.\n",
            "Instructions for updating:\n",
            "Use tf.print instead of tf.Print. Note that tf.print returns a no-output operator that directly prints the output. Outside of defuns or eager mode, this operator will not be executed unless it is directly specified in session.run or used as a control dependency for other operators. This is only a concern in graph mode. Below is an example of how to ensure tf.print executes in graph mode:\n",
            "\n"
          ]
        }
      ]
    },
    {
      "cell_type": "code",
      "source": [
        "for features, labels in train_ds.take(1):\n",
        "    print(\"features\")\n",
        "    for feature_name, feature_value in features.items():\n",
        "        print(f\"\\t{feature_name}: {feature_value[:4]}\")\n",
        "    print(f\"labels: {labels[:4]}\")"
      ],
      "metadata": {
        "colab": {
          "base_uri": "https://localhost:8080/"
        },
        "id": "s8SvkYMRdNl_",
        "outputId": "410cf54f-3380-4e26-ccdd-364c2d3039f1"
      },
      "execution_count": 40,
      "outputs": [
        {
          "output_type": "stream",
          "name": "stdout",
          "text": [
            "features\n",
            "\tsum_transactions_7_days: [-0.908513   -0.47019276  0.06573577  0.46546963]\n",
            "\tcount_transactions_7_days: [-0.23332487 -0.23365611  0.7202681   1.0381902 ]\n",
            "\tsum_transactions_14_days: [-1.5115515 -1.106029   1.8736032  0.9084269]\n",
            "\tcount_transactions_14_days: [-1.0962207 -1.0970178  2.0425577  0.380691 ]\n",
            "\tsum_transactions_28_days: [-0.9325886  -0.01749615  3.2529304   1.689501  ]\n",
            "\tcount_transactions_28_days: [-0.63424     0.12024121  2.4817033   1.0651494 ]\n",
            "\tcount_fraud_transactions_7_days: [-0.09772699 -0.09774984 -0.09772461 -0.09772591]\n",
            "\trate_fraud_transactions_7_days: [-0.10947144 -0.10945833 -0.1094589  -0.1094605 ]\n",
            "\tcount_fraud_transactions_14_days: [-0.1043793  -0.10441419 -0.10437494 -0.10437632]\n",
            "\trate_fraud_transactions_14_days: [-0.11559689 -0.11558982 -0.11558142 -0.11558311]\n",
            "\tcount_fraud_transactions_28_days: [-0.11275478 -0.11279945 -0.11275137 -0.11275212]\n",
            "\trate_fraud_transactions_28_days: [-0.12629052 -0.12630697 -0.12627721 -0.12627822]\n",
            "\tcalendar_hour: [-1.4807479 -0.6875581 -1.0838504 -1.0838815]\n",
            "\tcalendar_day_of_week: [1.4971813 1.4914936 1.4948974 1.4949608]\n",
            "labels: [0 0 0 0]\n"
          ]
        }
      ]
    },
    {
      "cell_type": "markdown",
      "source": [
        "**Train the model**"
      ],
      "metadata": {
        "id": "CqHdMaR6dR3O"
      }
    },
    {
      "cell_type": "code",
      "source": [
        "inputs = [keras.Input(shape=(1,), name=name) for name in input_feature_names]\n",
        "x = keras.layers.concatenate(inputs)\n",
        "x = keras.layers.Dense(32, activation=\"sigmoid\")(x)\n",
        "x = keras.layers.Dense(16, activation=\"sigmoid\")(x)\n",
        "x = keras.layers.Dense(1, activation=\"sigmoid\")(x)\n",
        "model = keras.Model(inputs=inputs, outputs=x)"
      ],
      "metadata": {
        "id": "o-5xPsU8dQku"
      },
      "execution_count": 41,
      "outputs": []
    },
    {
      "cell_type": "code",
      "source": [
        "model.compile(\n",
        "    optimizer=keras.optimizers.Adam(0.01),\n",
        "    loss=keras.losses.BinaryCrossentropy(),\n",
        "    metrics=[keras.metrics.Accuracy(), keras.metrics.AUC()],\n",
        ")\n",
        "model.fit(train_ds, validation_data=valid_ds)"
      ],
      "metadata": {
        "colab": {
          "base_uri": "https://localhost:8080/"
        },
        "id": "holAWW1RdYxp",
        "outputId": "ac1d8225-2e10-4e95-9b72-b945501d5f80"
      },
      "execution_count": 42,
      "outputs": [
        {
          "output_type": "stream",
          "name": "stdout",
          "text": [
            "    413/Unknown \u001b[1m48s\u001b[0m 108ms/step - accuracy: 0.0000e+00 - auc: 0.7963 - loss: 0.3929"
          ]
        },
        {
          "output_type": "stream",
          "name": "stderr",
          "text": [
            "/usr/lib/python3.10/contextlib.py:153: UserWarning: Your input ran out of data; interrupting training. Make sure that your dataset or generator can generate at least `steps_per_epoch * epochs` batches. You may need to use the `.repeat()` function when building your dataset.\n",
            "  self.gen.throw(typ, value, traceback)\n"
          ]
        },
        {
          "output_type": "stream",
          "name": "stdout",
          "text": [
            "\b\b\b\b\b\b\b\b\b\b\b\b\b\b\b\b\b\b\b\b\b\b\b\b\b\b\b\b\b\b\b\b\b\b\b\b\b\b\b\b\b\b\b\b\b\b\b\b\b\b\b\b\b\b\b\b\b\b\b\b\b\b\b\b\b\b\b\b\b\b\b\b\b\b\b\b\b\b\b\b\b\b\r\u001b[1m413/413\u001b[0m \u001b[32m━━━━━━━━━━━━━━━━━━━━\u001b[0m\u001b[37m\u001b[0m \u001b[1m76s\u001b[0m 175ms/step - accuracy: 0.0000e+00 - auc: 0.7963 - loss: 0.3928 - val_accuracy: 0.0000e+00 - val_auc: 0.8291 - val_loss: 0.1649\n"
          ]
        },
        {
          "output_type": "execute_result",
          "data": {
            "text/plain": [
              "<keras.src.callbacks.history.History at 0x78350157c4c0>"
            ]
          },
          "metadata": {},
          "execution_count": 42
        }
      ]
    },
    {
      "cell_type": "markdown",
      "source": [
        "**Evaluation**"
      ],
      "metadata": {
        "id": "ep51mdIYdeAI"
      }
    },
    {
      "cell_type": "code",
      "source": [
        "model.evaluate(test_ds)"
      ],
      "metadata": {
        "colab": {
          "base_uri": "https://localhost:8080/"
        },
        "id": "0yWmzBaNdiVN",
        "outputId": "8cd4c7db-55a2-46a3-eb61-f3a4f76c8e79"
      },
      "execution_count": 43,
      "outputs": [
        {
          "output_type": "stream",
          "name": "stdout",
          "text": [
            "\u001b[1m8997/8997\u001b[0m \u001b[32m━━━━━━━━━━━━━━━━━━━━\u001b[0m\u001b[37m\u001b[0m \u001b[1m26s\u001b[0m 3ms/step - accuracy: 0.0000e+00 - auc: 0.8358 - loss: 0.1652\n"
          ]
        },
        {
          "output_type": "execute_result",
          "data": {
            "text/plain": [
              "[0.1662847101688385, 0.0, 0.8284740447998047]"
            ]
          },
          "metadata": {},
          "execution_count": 43
        }
      ]
    },
    {
      "cell_type": "markdown",
      "source": [
        "**Compute the test predictions**"
      ],
      "metadata": {
        "id": "9VkLDpf7dnP-"
      }
    },
    {
      "cell_type": "code",
      "source": [
        "predictions = model.predict(test_ds)\n",
        "predictions = np.nan_to_num(predictions, nan=0)"
      ],
      "metadata": {
        "colab": {
          "base_uri": "https://localhost:8080/"
        },
        "id": "CwXD_fowdo9U",
        "outputId": "63461789-66dc-45af-90a8-17732f5c1a62"
      },
      "execution_count": 44,
      "outputs": [
        {
          "output_type": "stream",
          "name": "stdout",
          "text": [
            "\u001b[1m8997/8997\u001b[0m \u001b[32m━━━━━━━━━━━━━━━━━━━━\u001b[0m\u001b[37m\u001b[0m \u001b[1m29s\u001b[0m 3ms/step\n"
          ]
        }
      ]
    },
    {
      "cell_type": "markdown",
      "source": [
        "**Extract the labels from the test set**"
      ],
      "metadata": {
        "id": "th0ZN9_KdvHm"
      }
    },
    {
      "cell_type": "code",
      "source": [
        "labels = np.concatenate([label for _, label in test_ds])"
      ],
      "metadata": {
        "id": "NliMwx1UdwhW"
      },
      "execution_count": 45,
      "outputs": []
    },
    {
      "cell_type": "markdown",
      "source": [
        "**Plot the ROC curve**"
      ],
      "metadata": {
        "id": "0IWRLSZmd2YH"
      }
    },
    {
      "cell_type": "code",
      "source": [
        "_ = RocCurveDisplay.from_predictions(labels, predictions)"
      ],
      "metadata": {
        "colab": {
          "base_uri": "https://localhost:8080/",
          "height": 449
        },
        "id": "B4W3Bcicd1yd",
        "outputId": "996175f7-aefd-4fa5-bd14-263b1c0c57b3"
      },
      "execution_count": 46,
      "outputs": [
        {
          "output_type": "display_data",
          "data": {
            "text/plain": [
              "<Figure size 640x480 with 1 Axes>"
            ],
            "image/png": "[encoded data removed]"
          },
          "metadata": {}
        }
      ]
    },
    {
      "cell_type": "markdown",
      "source": [
        "**Model Save**"
      ],
      "metadata": {
        "id": "5R4BJp5weERR"
      }
    },
    {
      "cell_type": "code",
      "source": [
        "model.save(\"fraud_detection_model.keras\")"
      ],
      "metadata": {
        "id": "-f5tJtXqeIU_"
      },
      "execution_count": 47,
      "outputs": []
    },
    {
      "cell_type": "code",
      "source": [
        "loaded_model = keras.saving.load_model(\"fraud_detection_model.keras\")\n",
        "\n",
        "# Generate predictions with the loaded model on 5 test examples.\n",
        "loaded_model.predict(test_ds.rebatch(5).take(1))"
      ],
      "metadata": {
        "colab": {
          "base_uri": "https://localhost:8080/"
        },
        "id": "BwNtqaHzeWIm",
        "outputId": "319c9d25-d99d-43a0-9e65-c16f56bec820"
      },
      "execution_count": 48,
      "outputs": [
        {
          "output_type": "stream",
          "name": "stdout",
          "text": [
            "\u001b[1m1/1\u001b[0m \u001b[32m━━━━━━━━━━━━━━━━━━━━\u001b[0m\u001b[37m\u001b[0m \u001b[1m0s\u001b[0m 383ms/step\n"
          ]
        },
        {
          "output_type": "stream",
          "name": "stderr",
          "text": [
            "/usr/lib/python3.10/contextlib.py:153: UserWarning: Your input ran out of data; interrupting training. Make sure that your dataset or generator can generate at least `steps_per_epoch * epochs` batches. You may need to use the `.repeat()` function when building your dataset.\n",
            "  self.gen.throw(typ, value, traceback)\n"
          ]
        },
        {
          "output_type": "execute_result",
          "data": {
            "text/plain": [
              "array([[0.12136816],\n",
              "       [0.07725452],\n",
              "       [0.2763909 ],\n",
              "       [0.07164078],\n",
              "       [0.09354623]], dtype=float32)"
            ]
          },
          "metadata": {},
          "execution_count": 48
        }
      ]
    }
  ],
  "metadata": {
    "accelerator": "GPU",
    "colab": {
      "gpuType": "T4",
      "provenance": []
    },
    "kernelspec": {
      "display_name": "Python 3",
      "name": "python3"
    },
    "language_info": {
      "name": "python"
    }
  },
  "nbformat": 4,
  "nbformat_minor": 0
}